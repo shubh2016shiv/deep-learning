{
 "cells": [
  {
   "cell_type": "code",
   "execution_count": 7,
   "metadata": {},
   "outputs": [],
   "source": [
    "from sklearn.datasets import fetch_olivetti_faces\n",
    "\n",
    "import numpy as np\n",
    "import matplotlib.pyplot as plt\n",
    "import pandas as pd\n",
    "from sklearn.metrics import accuracy_score\n",
    "from sklearn.model_selection import train_test_split\n",
    "from sklearn.svm import SVC\n",
    "from sklearn.metrics import confusion_matrix,accuracy_score\n",
    "from random import randint\n",
    "%matplotlib inline"
   ]
  },
  {
   "cell_type": "code",
   "execution_count": 3,
   "metadata": {},
   "outputs": [],
   "source": [
    "# Download Images and initialize the class 'fetch_olivetti_faces' from scikit learn dataset \n",
    "faces = fetch_olivetti_faces()"
   ]
  },
  {
   "cell_type": "code",
   "execution_count": 9,
   "metadata": {},
   "outputs": [
    {
     "data": {
      "text/plain": [
       "(400, 4096)"
      ]
     },
     "execution_count": 9,
     "metadata": {},
     "output_type": "execute_result"
    }
   ],
   "source": [
    "faces.data.shape"
   ]
  },
  {
   "cell_type": "code",
   "execution_count": 11,
   "metadata": {},
   "outputs": [
    {
     "data": {
      "text/plain": [
       "<matplotlib.image.AxesImage at 0x1bfb948a518>"
      ]
     },
     "execution_count": 11,
     "metadata": {},
     "output_type": "execute_result"
    },
    {
     "data": {
      "image/png": "[encoded data removed]",
      "text/plain": [
       "<Figure size 432x288 with 1 Axes>"
      ]
     },
     "metadata": {
      "needs_background": "light"
     },
     "output_type": "display_data"
    }
   ],
   "source": [
    "# Pick up the random image of face \n",
    "random_image_index = randint(0,faces.data.shape[0] + 1)\n",
    "plt.imshow(faces.images[random_image_index])"
   ]
  },
  {
   "cell_type": "code",
   "execution_count": 5,
   "metadata": {},
   "outputs": [
    {
     "data": {
      "text/plain": [
       "array([[0.30991736, 0.3677686 , 0.41735536, ..., 0.15289256, 0.16115703,\n",
       "        0.1570248 ],\n",
       "       [0.45454547, 0.47107437, 0.5123967 , ..., 0.15289256, 0.15289256,\n",
       "        0.15289256],\n",
       "       [0.3181818 , 0.40082645, 0.49173555, ..., 0.14049587, 0.14876033,\n",
       "        0.15289256],\n",
       "       ...,\n",
       "       [0.5       , 0.53305787, 0.607438  , ..., 0.17768595, 0.14876033,\n",
       "        0.19008264],\n",
       "       [0.21487603, 0.21900827, 0.21900827, ..., 0.57438016, 0.59090906,\n",
       "        0.60330576],\n",
       "       [0.5165289 , 0.46280992, 0.28099173, ..., 0.35950413, 0.3553719 ,\n",
       "        0.38429752]], dtype=float32)"
      ]
     },
     "execution_count": 5,
     "metadata": {},
     "output_type": "execute_result"
    }
   ],
   "source": [
    "faces.data"
   ]
  },
  {
   "cell_type": "code",
   "execution_count": 6,
   "metadata": {},
   "outputs": [
    {
     "data": {
      "text/plain": [
       "array([[0.45454547, 0.47107437, 0.5123967 , ..., 0.19008264, 0.18595041,\n",
       "        0.18595041],\n",
       "       [0.446281  , 0.48347107, 0.5206612 , ..., 0.21487603, 0.2107438 ,\n",
       "        0.2107438 ],\n",
       "       [0.49586776, 0.5165289 , 0.53305787, ..., 0.20247933, 0.20661157,\n",
       "        0.20661157],\n",
       "       ...,\n",
       "       [0.77272725, 0.78099173, 0.7933884 , ..., 0.1446281 , 0.1446281 ,\n",
       "        0.1446281 ],\n",
       "       [0.77272725, 0.7768595 , 0.7892562 , ..., 0.13636364, 0.13636364,\n",
       "        0.13636364],\n",
       "       [0.7644628 , 0.7892562 , 0.78099173, ..., 0.15289256, 0.15289256,\n",
       "        0.15289256]], dtype=float32)"
      ]
     },
     "execution_count": 6,
     "metadata": {},
     "output_type": "execute_result"
    }
   ],
   "source": [
    "faces.images[1]"
   ]
  },
  {
   "cell_type": "code",
   "execution_count": 7,
   "metadata": {},
   "outputs": [
    {
     "data": {
      "text/plain": [
       "array([[0.45454547, 0.47107437, 0.5123967 , ..., 0.19008264, 0.18595041,\n",
       "        0.18595041],\n",
       "       [0.446281  , 0.48347107, 0.5206612 , ..., 0.21487603, 0.2107438 ,\n",
       "        0.2107438 ],\n",
       "       [0.49586776, 0.5165289 , 0.53305787, ..., 0.20247933, 0.20661157,\n",
       "        0.20661157],\n",
       "       ...,\n",
       "       [0.77272725, 0.78099173, 0.7933884 , ..., 0.1446281 , 0.1446281 ,\n",
       "        0.1446281 ],\n",
       "       [0.77272725, 0.7768595 , 0.7892562 , ..., 0.13636364, 0.13636364,\n",
       "        0.13636364],\n",
       "       [0.7644628 , 0.7892562 , 0.78099173, ..., 0.15289256, 0.15289256,\n",
       "        0.15289256]], dtype=float32)"
      ]
     },
     "execution_count": 7,
     "metadata": {},
     "output_type": "execute_result"
    }
   ],
   "source": [
    "faces.data[1].reshape(64,64)"
   ]
  },
  {
   "cell_type": "code",
   "execution_count": 14,
   "metadata": {},
   "outputs": [
    {
     "data": {
      "text/plain": [
       "True"
      ]
     },
     "execution_count": 14,
     "metadata": {},
     "output_type": "execute_result"
    }
   ],
   "source": [
    "# Checking if reshaped 'data' to 64 x 64 is same as image at any given randomly chosen index \n",
    "np.array_equal(faces.data[random_image_index].reshape(64,64), faces.images[random_image_index])"
   ]
  },
  {
   "cell_type": "markdown",
   "metadata": {},
   "source": [
    "# Classification using SVM"
   ]
  },
  {
   "cell_type": "code",
   "execution_count": 15,
   "metadata": {},
   "outputs": [],
   "source": [
    "# Extracting data, which is flattened version of any image\n",
    "features = faces.data\n",
    "# Extracting the ouput value which is the hot-encoded value of ID of a person\n",
    "targets = faces.target"
   ]
  },
  {
   "cell_type": "code",
   "execution_count": 16,
   "metadata": {},
   "outputs": [
    {
     "name": "stderr",
     "output_type": "stream",
     "text": [
      "F:\\Anaconda\\lib\\site-packages\\sklearn\\model_selection\\_split.py:2179: FutureWarning: From version 0.21, test_size will always complement train_size unless both are specified.\n",
      "  FutureWarning)\n"
     ]
    }
   ],
   "source": [
    "# Splitting the data using sklearn library\n",
    "X_train,X_test,y_train,y_test = train_test_split(features,targets,train_size=0.8)"
   ]
  },
  {
   "cell_type": "code",
   "execution_count": 17,
   "metadata": {},
   "outputs": [
    {
     "data": {
      "text/plain": [
       "SVC(C=1.0, cache_size=200, class_weight=None, coef0=0.0,\n",
       "  decision_function_shape='ovr', degree=3, gamma='auto_deprecated',\n",
       "  kernel='linear', max_iter=-1, probability=False, random_state=None,\n",
       "  shrinking=True, tol=0.001, verbose=False)"
      ]
     },
     "execution_count": 17,
     "metadata": {},
     "output_type": "execute_result"
    }
   ],
   "source": [
    "# initializing the SVM classifier\n",
    "classifier = SVC(kernel=\"linear\") # default kernel=rbf\n",
    "# training using 'training data'\n",
    "classifier.fit(X_train, y_train) # fit the model for training data"
   ]
  },
  {
   "cell_type": "code",
   "execution_count": 18,
   "metadata": {},
   "outputs": [
    {
     "name": "stdout",
     "output_type": "stream",
     "text": [
      "Accuracy for test data: 0.975\n"
     ]
    }
   ],
   "source": [
    "# predict the 'target' for 'test data'\n",
    "prediction_test_targets = classifier.predict(X_test)\n",
    "test_accuracy = accuracy_score(y_test, prediction_test_targets)\n",
    "print(\"Accuracy for test data:\", test_accuracy)"
   ]
  },
  {
   "cell_type": "markdown",
   "metadata": {},
   "source": [
    "# Classification using Artificial Neural Network"
   ]
  },
  {
   "cell_type": "code",
   "execution_count": 28,
   "metadata": {},
   "outputs": [],
   "source": [
    "from keras.models import Sequential\n",
    "from keras.layers import Dense\n",
    "from keras.utils import to_categorical"
   ]
  },
  {
   "cell_type": "code",
   "execution_count": 13,
   "metadata": {},
   "outputs": [],
   "source": [
    "features = faces.data\n",
    "targets = faces.target"
   ]
  },
  {
   "cell_type": "code",
   "execution_count": 14,
   "metadata": {},
   "outputs": [],
   "source": [
    "targets_categorical = to_categorical(targets)"
   ]
  },
  {
   "cell_type": "code",
   "execution_count": 15,
   "metadata": {},
   "outputs": [
    {
     "name": "stderr",
     "output_type": "stream",
     "text": [
      "F:\\Anaconda\\lib\\site-packages\\sklearn\\model_selection\\_split.py:2179: FutureWarning: From version 0.21, test_size will always complement train_size unless both are specified.\n",
      "  FutureWarning)\n"
     ]
    }
   ],
   "source": [
    "X_train,X_test,y_train,y_test = train_test_split(features,targets_categorical,train_size=0.8)"
   ]
  },
  {
   "cell_type": "code",
   "execution_count": 16,
   "metadata": {},
   "outputs": [
    {
     "name": "stderr",
     "output_type": "stream",
     "text": [
      "WARNING: Logging before flag parsing goes to stderr.\n",
      "W1116 08:57:40.788306 12132 deprecation_wrapper.py:119] From F:\\Anaconda\\lib\\site-packages\\keras\\backend\\tensorflow_backend.py:74: The name tf.get_default_graph is deprecated. Please use tf.compat.v1.get_default_graph instead.\n",
      "\n"
     ]
    }
   ],
   "source": [
    "classifier = Sequential()"
   ]
  },
  {
   "cell_type": "code",
   "execution_count": 17,
   "metadata": {},
   "outputs": [
    {
     "name": "stderr",
     "output_type": "stream",
     "text": [
      "W1116 08:57:40.854130 12132 deprecation_wrapper.py:119] From F:\\Anaconda\\lib\\site-packages\\keras\\backend\\tensorflow_backend.py:517: The name tf.placeholder is deprecated. Please use tf.compat.v1.placeholder instead.\n",
      "\n",
      "W1116 08:57:40.858120 12132 deprecation_wrapper.py:119] From F:\\Anaconda\\lib\\site-packages\\keras\\backend\\tensorflow_backend.py:4138: The name tf.random_uniform is deprecated. Please use tf.random.uniform instead.\n",
      "\n",
      "W1116 08:57:40.959849 12132 deprecation_wrapper.py:119] From F:\\Anaconda\\lib\\site-packages\\keras\\optimizers.py:790: The name tf.train.Optimizer is deprecated. Please use tf.compat.v1.train.Optimizer instead.\n",
      "\n",
      "W1116 08:57:40.996763 12132 deprecation_wrapper.py:119] From F:\\Anaconda\\lib\\site-packages\\keras\\backend\\tensorflow_backend.py:3295: The name tf.log is deprecated. Please use tf.math.log instead.\n",
      "\n"
     ]
    }
   ],
   "source": [
    "classifier.add(Dense(units=10000,activation='relu',input_dim=4096))\n",
    "classifier.add(Dense(units=4096,activation='relu'))\n",
    "classifier.add(Dense(units=256,activation='relu'))\n",
    "classifier.add(Dense(units=64,activation='relu'))\n",
    "classifier.add(Dense(units=40,activation='softmax'))\n",
    "\n",
    "classifier.compile(loss='categorical_crossentropy', optimizer='adam', metrics=['accuracy'])"
   ]
  },
  {
   "cell_type": "code",
   "execution_count": 18,
   "metadata": {},
   "outputs": [
    {
     "name": "stdout",
     "output_type": "stream",
     "text": [
      "_________________________________________________________________\n",
      "Layer (type)                 Output Shape              Param #   \n",
      "=================================================================\n",
      "dense_1 (Dense)              (None, 10000)             40970000  \n",
      "_________________________________________________________________\n",
      "dense_2 (Dense)              (None, 4096)              40964096  \n",
      "_________________________________________________________________\n",
      "dense_3 (Dense)              (None, 256)               1048832   \n",
      "_________________________________________________________________\n",
      "dense_4 (Dense)              (None, 64)                16448     \n",
      "_________________________________________________________________\n",
      "dense_5 (Dense)              (None, 40)                2600      \n",
      "=================================================================\n",
      "Total params: 83,001,976\n",
      "Trainable params: 83,001,976\n",
      "Non-trainable params: 0\n",
      "_________________________________________________________________\n"
     ]
    }
   ],
   "source": [
    "classifier.summary()"
   ]
  },
  {
   "cell_type": "code",
   "execution_count": 19,
   "metadata": {
    "scrolled": true
   },
   "outputs": [
    {
     "name": "stderr",
     "output_type": "stream",
     "text": [
      "W1116 08:57:41.255061 12132 deprecation.py:323] From F:\\Anaconda\\lib\\site-packages\\tensorflow\\python\\ops\\math_grad.py:1250: add_dispatch_support.<locals>.wrapper (from tensorflow.python.ops.array_ops) is deprecated and will be removed in a future version.\n",
      "Instructions for updating:\n",
      "Use tf.where in 2.0, which has the same broadcast rule as np.where\n",
      "W1116 08:57:41.370748 12132 deprecation_wrapper.py:119] From F:\\Anaconda\\lib\\site-packages\\keras\\backend\\tensorflow_backend.py:986: The name tf.assign_add is deprecated. Please use tf.compat.v1.assign_add instead.\n",
      "\n"
     ]
    },
    {
     "name": "stdout",
     "output_type": "stream",
     "text": [
      "Epoch 1/10\n",
      "320/320 [==============================] - 16s 49ms/step - loss: 12.9368 - acc: 0.0250\n",
      "Epoch 2/10\n",
      "320/320 [==============================] - 11s 36ms/step - loss: 15.7151 - acc: 0.0250\n",
      "Epoch 3/10\n",
      "320/320 [==============================] - 11s 34ms/step - loss: 15.7151 - acc: 0.0250\n",
      "Epoch 4/10\n",
      "320/320 [==============================] - 12s 36ms/step - loss: 15.7151 - acc: 0.0250\n",
      "Epoch 5/10\n",
      "320/320 [==============================] - 11s 36ms/step - loss: 15.7151 - acc: 0.0250\n",
      "Epoch 6/10\n",
      "320/320 [==============================] - 12s 38ms/step - loss: 15.7151 - acc: 0.0250\n",
      "Epoch 7/10\n",
      "320/320 [==============================] - 12s 37ms/step - loss: 15.7151 - acc: 0.0250\n",
      "Epoch 8/10\n",
      "320/320 [==============================] - 11s 36ms/step - loss: 15.7151 - acc: 0.0250\n",
      "Epoch 9/10\n",
      "320/320 [==============================] - 11s 34ms/step - loss: 15.7151 - acc: 0.0250\n",
      "Epoch 10/10\n",
      "320/320 [==============================] - 11s 35ms/step - loss: 15.7151 - acc: 0.0250\n"
     ]
    },
    {
     "data": {
      "text/plain": [
       "<keras.callbacks.History at 0x1fbc502e5c0>"
      ]
     },
     "execution_count": 19,
     "metadata": {},
     "output_type": "execute_result"
    }
   ],
   "source": [
    "classifier.fit(x=X_train,y=y_train,batch_size=40,epochs=10)"
   ]
  },
  {
   "cell_type": "markdown",
   "metadata": {},
   "source": [
    "Using simple ANN would not give the good accuracy as at validation step, accuracy of 0.025 is attained.\n",
    "\n",
    "ANN is not the great choice for this..\n",
    "\n",
    "So let's try with Convolutional Neural Network"
   ]
  },
  {
   "cell_type": "markdown",
   "metadata": {},
   "source": [
    "# Classification using CNN"
   ]
  },
  {
   "cell_type": "code",
   "execution_count": 21,
   "metadata": {},
   "outputs": [],
   "source": [
    "from keras.layers import Convolution2D,MaxPooling2D,Dense,Flatten\n",
    "from keras.models import Sequential"
   ]
  },
  {
   "cell_type": "code",
   "execution_count": 22,
   "metadata": {},
   "outputs": [
    {
     "name": "stderr",
     "output_type": "stream",
     "text": [
      "WARNING: Logging before flag parsing goes to stderr.\n",
      "W1123 11:15:16.759121  8520 deprecation_wrapper.py:119] From F:\\Anaconda\\lib\\site-packages\\keras\\backend\\tensorflow_backend.py:74: The name tf.get_default_graph is deprecated. Please use tf.compat.v1.get_default_graph instead.\n",
      "\n"
     ]
    }
   ],
   "source": [
    "# Initialize the CNN classifier\n",
    "classifier_CNN = Sequential()"
   ]
  },
  {
   "cell_type": "code",
   "execution_count": 24,
   "metadata": {},
   "outputs": [
    {
     "name": "stderr",
     "output_type": "stream",
     "text": [
      "W1123 11:18:44.751511  8520 deprecation_wrapper.py:119] From F:\\Anaconda\\lib\\site-packages\\keras\\backend\\tensorflow_backend.py:517: The name tf.placeholder is deprecated. Please use tf.compat.v1.placeholder instead.\n",
      "\n",
      "W1123 11:18:45.079503  8520 deprecation_wrapper.py:119] From F:\\Anaconda\\lib\\site-packages\\keras\\backend\\tensorflow_backend.py:4138: The name tf.random_uniform is deprecated. Please use tf.random.uniform instead.\n",
      "\n",
      "W1123 11:18:45.348642  8520 deprecation_wrapper.py:119] From F:\\Anaconda\\lib\\site-packages\\keras\\backend\\tensorflow_backend.py:3976: The name tf.nn.max_pool is deprecated. Please use tf.nn.max_pool2d instead.\n",
      "\n",
      "W1123 11:18:45.571010  8520 deprecation_wrapper.py:119] From F:\\Anaconda\\lib\\site-packages\\keras\\optimizers.py:790: The name tf.train.Optimizer is deprecated. Please use tf.compat.v1.train.Optimizer instead.\n",
      "\n",
      "W1123 11:18:45.613895  8520 deprecation_wrapper.py:119] From F:\\Anaconda\\lib\\site-packages\\keras\\backend\\tensorflow_backend.py:3295: The name tf.log is deprecated. Please use tf.math.log instead.\n",
      "\n"
     ]
    }
   ],
   "source": [
    "# Add the dense layers one by one \n",
    "# Add the convolution layers for which input is 64x64 containing 16 filters each of size 3x3\n",
    "classifier_CNN.add(Convolution2D(filters=16,kernel_size=(3,3),input_shape=(64,64,1),activation='relu'))\n",
    "# Add Max Pooling Layer\n",
    "classifier_CNN.add(MaxPooling2D(pool_size=(2,2)))\n",
    "# Add convolution layer having 16 filter each with size 3x3\n",
    "classifier_CNN.add(Convolution2D(filters=16,kernel_size=(3,3),activation='relu'))\n",
    "classifier_CNN.add(MaxPooling2D(pool_size=(2,2)))\n",
    "classifier_CNN.add(Convolution2D(filters=16,kernel_size=(3,3),activation='relu'))\n",
    "classifier_CNN.add(MaxPooling2D(pool_size=(2,2)))\n",
    "# Add the layer to flatten\n",
    "classifier_CNN.add(Flatten())\n",
    "classifier_CNN.add(Dense(units=256,activation='relu'))\n",
    "# Add the output layer to classify the 40 faces\n",
    "classifier_CNN.add(Dense(units=40,activation='softmax'))\n",
    "\n",
    "classifier_CNN.compile(loss='categorical_crossentropy', optimizer='adam', metrics=['accuracy'])"
   ]
  },
  {
   "cell_type": "code",
   "execution_count": 25,
   "metadata": {},
   "outputs": [
    {
     "name": "stdout",
     "output_type": "stream",
     "text": [
      "_________________________________________________________________\n",
      "Layer (type)                 Output Shape              Param #   \n",
      "=================================================================\n",
      "conv2d_1 (Conv2D)            (None, 62, 62, 16)        160       \n",
      "_________________________________________________________________\n",
      "max_pooling2d_1 (MaxPooling2 (None, 31, 31, 16)        0         \n",
      "_________________________________________________________________\n",
      "conv2d_2 (Conv2D)            (None, 29, 29, 16)        2320      \n",
      "_________________________________________________________________\n",
      "max_pooling2d_2 (MaxPooling2 (None, 14, 14, 16)        0         \n",
      "_________________________________________________________________\n",
      "conv2d_3 (Conv2D)            (None, 12, 12, 16)        2320      \n",
      "_________________________________________________________________\n",
      "max_pooling2d_3 (MaxPooling2 (None, 6, 6, 16)          0         \n",
      "_________________________________________________________________\n",
      "flatten_1 (Flatten)          (None, 576)               0         \n",
      "_________________________________________________________________\n",
      "dense_1 (Dense)              (None, 256)               147712    \n",
      "_________________________________________________________________\n",
      "dense_2 (Dense)              (None, 40)                10280     \n",
      "=================================================================\n",
      "Total params: 162,792\n",
      "Trainable params: 162,792\n",
      "Non-trainable params: 0\n",
      "_________________________________________________________________\n"
     ]
    }
   ],
   "source": [
    "classifier_CNN.summary()"
   ]
  },
  {
   "cell_type": "code",
   "execution_count": 26,
   "metadata": {},
   "outputs": [],
   "source": [
    "images = faces.images\n",
    "targets = faces.target"
   ]
  },
  {
   "cell_type": "code",
   "execution_count": 29,
   "metadata": {},
   "outputs": [],
   "source": [
    "targets_categorical = to_categorical(targets)"
   ]
  },
  {
   "cell_type": "code",
   "execution_count": 30,
   "metadata": {},
   "outputs": [
    {
     "name": "stderr",
     "output_type": "stream",
     "text": [
      "F:\\Anaconda\\lib\\site-packages\\sklearn\\model_selection\\_split.py:2179: FutureWarning: From version 0.21, test_size will always complement train_size unless both are specified.\n",
      "  FutureWarning)\n"
     ]
    }
   ],
   "source": [
    "X_train,X_test,y_train,y_test = train_test_split(images,targets_categorical,train_size=0.8)"
   ]
  },
  {
   "cell_type": "code",
   "execution_count": 31,
   "metadata": {},
   "outputs": [
    {
     "name": "stdout",
     "output_type": "stream",
     "text": [
      "Shape of X_train: (320, 64, 64)\n",
      "Shape of y_train: (320, 40)\n",
      "Shape of X_test: (80, 64, 64)\n",
      "Shape of y_test: (80, 40)\n"
     ]
    }
   ],
   "source": [
    "## Checking out the shapes involved in dataset\n",
    "print (\"Shape of X_train: {}\".format(X_train.shape))\n",
    "print (\"Shape of y_train: {}\".format(y_train.shape))\n",
    "print (\"Shape of X_test: {}\".format(X_test.shape))\n",
    "print (\"Shape of y_test: {}\".format(y_test.shape))"
   ]
  },
  {
   "cell_type": "code",
   "execution_count": 32,
   "metadata": {},
   "outputs": [],
   "source": [
    "# reshaping the dimensions to feed to neural network\n",
    "X_train = X_train.reshape(320, 64, 64, 1)\n",
    "X_test = X_test.reshape(80, 64, 64, 1)"
   ]
  },
  {
   "cell_type": "code",
   "execution_count": 33,
   "metadata": {},
   "outputs": [
    {
     "name": "stderr",
     "output_type": "stream",
     "text": [
      "W1123 11:21:26.475325  8520 deprecation.py:323] From F:\\Anaconda\\lib\\site-packages\\tensorflow\\python\\ops\\math_grad.py:1250: add_dispatch_support.<locals>.wrapper (from tensorflow.python.ops.array_ops) is deprecated and will be removed in a future version.\n",
      "Instructions for updating:\n",
      "Use tf.where in 2.0, which has the same broadcast rule as np.where\n",
      "W1123 11:21:26.576527  8520 deprecation_wrapper.py:119] From F:\\Anaconda\\lib\\site-packages\\keras\\backend\\tensorflow_backend.py:986: The name tf.assign_add is deprecated. Please use tf.compat.v1.assign_add instead.\n",
      "\n"
     ]
    },
    {
     "name": "stdout",
     "output_type": "stream",
     "text": [
      "Epoch 1/20\n",
      "320/320 [==============================] - 4s 12ms/step - loss: 3.6959 - acc: 0.0281\n",
      "Epoch 2/20\n",
      "320/320 [==============================] - 0s 1ms/step - loss: 3.6765 - acc: 0.0281\n",
      "Epoch 3/20\n",
      "320/320 [==============================] - 0s 1ms/step - loss: 3.6561 - acc: 0.0750\n",
      "Epoch 4/20\n",
      "320/320 [==============================] - 0s 1ms/step - loss: 3.6209 - acc: 0.0563\n",
      "Epoch 5/20\n",
      "320/320 [==============================] - 0s 1ms/step - loss: 3.5671 - acc: 0.1000\n",
      "Epoch 6/20\n",
      "320/320 [==============================] - 0s 1ms/step - loss: 3.4572 - acc: 0.2031\n",
      "Epoch 7/20\n",
      "320/320 [==============================] - 0s 1ms/step - loss: 3.2401 - acc: 0.3563\n",
      "Epoch 8/20\n",
      "320/320 [==============================] - 0s 1ms/step - loss: 2.8694 - acc: 0.3844\n",
      "Epoch 9/20\n",
      "320/320 [==============================] - 0s 1ms/step - loss: 2.3584 - acc: 0.5406\n",
      "Epoch 10/20\n",
      "320/320 [==============================] - 0s 1ms/step - loss: 1.7948 - acc: 0.6625\n",
      "Epoch 11/20\n",
      "320/320 [==============================] - 0s 1ms/step - loss: 1.3340 - acc: 0.7344\n",
      "Epoch 12/20\n",
      "320/320 [==============================] - 0s 1ms/step - loss: 0.9823 - acc: 0.7594\n",
      "Epoch 13/20\n",
      "320/320 [==============================] - 0s 1ms/step - loss: 0.7148 - acc: 0.8594\n",
      "Epoch 14/20\n",
      "320/320 [==============================] - 1s 2ms/step - loss: 0.5038 - acc: 0.9000\n",
      "Epoch 15/20\n",
      "320/320 [==============================] - 0s 1ms/step - loss: 0.3615 - acc: 0.9250\n",
      "Epoch 16/20\n",
      "320/320 [==============================] - 0s 1ms/step - loss: 0.2852 - acc: 0.9375\n",
      "Epoch 17/20\n",
      "320/320 [==============================] - 1s 2ms/step - loss: 0.1908 - acc: 0.9938\n",
      "Epoch 18/20\n",
      "320/320 [==============================] - 0s 1ms/step - loss: 0.1569 - acc: 0.9750\n",
      "Epoch 19/20\n",
      "320/320 [==============================] - 0s 1ms/step - loss: 0.1126 - acc: 0.9938\n",
      "Epoch 20/20\n",
      "320/320 [==============================] - 0s 2ms/step - loss: 0.0884 - acc: 0.9938\n"
     ]
    },
    {
     "data": {
      "text/plain": [
       "<keras.callbacks.History at 0x1bfbacda390>"
      ]
     },
     "execution_count": 33,
     "metadata": {},
     "output_type": "execute_result"
    }
   ],
   "source": [
    "classifier_CNN.fit(x=X_train,y=y_train,epochs=20,batch_size=40)"
   ]
  },
  {
   "cell_type": "code",
   "execution_count": 35,
   "metadata": {},
   "outputs": [],
   "source": [
    "# Preducting using the testing input ie , X_test\n",
    "y_pred = classifier_CNN.predict(X_test)"
   ]
  },
  {
   "cell_type": "code",
   "execution_count": 36,
   "metadata": {},
   "outputs": [
    {
     "data": {
      "text/plain": [
       "array([7.2979308e-14, 8.7141072e-15, 4.5940609e-04, 2.3132088e-08,\n",
       "       3.5710406e-04, 2.3867766e-10, 3.7839206e-07, 3.4167564e-09,\n",
       "       4.4171252e-06, 1.7066468e-05, 1.5479032e-10, 3.3997625e-04,\n",
       "       4.0844001e-04, 2.6674938e-08, 1.4922435e-07, 1.7761936e-06,\n",
       "       3.8693603e-02, 1.6425116e-06, 4.9021654e-08, 5.8842124e-03,\n",
       "       1.4256992e-02, 8.5909985e-10, 8.6879581e-06, 6.2507290e-08,\n",
       "       1.6751878e-03, 5.2844493e-06, 6.7313783e-07, 9.1255295e-08,\n",
       "       2.2244800e-03, 1.9573231e-04, 7.4529045e-05, 2.5944338e-08,\n",
       "       5.0190563e-05, 8.9939601e-12, 8.5835856e-01, 1.5649320e-07,\n",
       "       2.4575302e-06, 5.3907938e-06, 9.9201628e-04, 7.5981110e-02],\n",
       "      dtype=float32)"
      ]
     },
     "execution_count": 36,
     "metadata": {},
     "output_type": "execute_result"
    }
   ],
   "source": [
    "y_pred[0]"
   ]
  },
  {
   "cell_type": "code",
   "execution_count": 37,
   "metadata": {},
   "outputs": [],
   "source": [
    "y_pred = np.around(y_pred)"
   ]
  },
  {
   "cell_type": "code",
   "execution_count": 38,
   "metadata": {},
   "outputs": [
    {
     "data": {
      "text/plain": [
       "array([0., 0., 0., 0., 0., 0., 0., 0., 0., 0., 0., 0., 0., 0., 0., 0., 0.,\n",
       "       0., 0., 0., 0., 0., 0., 0., 0., 0., 0., 0., 0., 0., 0., 0., 0., 0.,\n",
       "       1., 0., 0., 0., 0., 0.], dtype=float32)"
      ]
     },
     "execution_count": 38,
     "metadata": {},
     "output_type": "execute_result"
    }
   ],
   "source": [
    "y_pred[0]"
   ]
  },
  {
   "cell_type": "code",
   "execution_count": 39,
   "metadata": {},
   "outputs": [
    {
     "data": {
      "text/plain": [
       "array([0., 0., 0., 0., 0., 0., 0., 0., 0., 0., 0., 0., 0., 0., 0., 0., 0.,\n",
       "       0., 0., 0., 0., 0., 0., 0., 0., 0., 0., 0., 0., 0., 0., 0., 0., 0.,\n",
       "       1., 0., 0., 0., 0., 0.], dtype=float32)"
      ]
     },
     "execution_count": 39,
     "metadata": {},
     "output_type": "execute_result"
    }
   ],
   "source": [
    "y_test[0]"
   ]
  },
  {
   "cell_type": "code",
   "execution_count": 40,
   "metadata": {},
   "outputs": [
    {
     "data": {
      "text/plain": [
       "0.925"
      ]
     },
     "execution_count": 40,
     "metadata": {},
     "output_type": "execute_result"
    }
   ],
   "source": [
    "# Accuracy\n",
    "accuracy_score(y_true=y_test,y_pred=y_pred)"
   ]
  },
  {
   "cell_type": "markdown",
   "metadata": {},
   "source": [
    "## from above models (SVM, ANN and CNN), SVM achieved the accuracy of 0.975 and CNN achieved the accuracy of 0.925"
   ]
  },
  {
   "cell_type": "code",
   "execution_count": null,
   "metadata": {},
   "outputs": [],
   "source": []
  }
 ],
 "metadata": {
  "kernelspec": {
   "display_name": "Python 3",
   "language": "python",
   "name": "python3"
  },
  "language_info": {
   "codemirror_mode": {
    "name": "ipython",
    "version": 3
   },
   "file_extension": ".py",
   "mimetype": "text/x-python",
   "name": "python",
   "nbconvert_exporter": "python",
   "pygments_lexer": "ipython3",
   "version": "3.7.3"
  }
 },
 "nbformat": 4,
 "nbformat_minor": 2
}
